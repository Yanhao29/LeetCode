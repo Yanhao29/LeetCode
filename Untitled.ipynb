{
 "cells": [
  {
   "cell_type": "code",
   "execution_count": 496,
   "metadata": {},
   "outputs": [],
   "source": [
    "def minSubArrayLen(s, nums):\n",
    "#     total = left = 0\n",
    "#     result = len(nums) + 1\n",
    "#     for right, n in enumerate(nums):\n",
    "#         print 'n is {}'.format(n)\n",
    "#         print 'right is {}'.format(right)\n",
    "#         total += n\n",
    "#         print 'total is {}'.format(total)\n",
    "#         while total >= s:\n",
    "#             result = min(result, right - left + 1)\n",
    "#             total -= nums[left]\n",
    "#             left += 1\n",
    "#     return result if result <= len(nums) else 0\n",
    "    if(len(nums)==0):\n",
    "        return 0 \n",
    "    else:\n",
    "        ans = 0\n",
    "        for i in range(len(nums)):\n",
    "            c = 0\n",
    "            j = i\n",
    "            cans = 0\n",
    "            while(j<len(nums)):\n",
    "                print 'j is {}'.format(j)\n",
    "                c = c + nums[j]\n",
    "                if(c<s):\n",
    "                    if(j==len(nums)-1):\n",
    "                        cans = 0\n",
    "                        break\n",
    "                    else:\n",
    "                        j = j+1\n",
    "                        cans = cans+1\n",
    "                else:\n",
    "                    cans = cans+1\n",
    "                    break\n",
    "            print 'cans is {}'.format(cans)\n",
    "            if(cans>0):\n",
    "                if(ans==0):\n",
    "                    ans = cans\n",
    "                else:\n",
    "                    ans = min(ans,cans)\n",
    "        return ans"
   ]
  },
  {
   "cell_type": "code",
   "execution_count": 499,
   "metadata": {},
   "outputs": [
    {
     "data": {
      "text/plain": [
       "1"
      ]
     },
     "execution_count": 499,
     "metadata": {},
     "output_type": "execute_result"
    }
   ],
   "source": [
    "a = [2,3,1,2,4,3]\n",
    "# a = [1,2,3,4,5]\n",
    "min(a)"
   ]
  },
  {
   "cell_type": "code",
   "execution_count": 500,
   "metadata": {},
   "outputs": [
    {
     "name": "stdout",
     "output_type": "stream",
     "text": [
      "j is 0\n",
      "j is 1\n",
      "j is 2\n",
      "j is 3\n",
      "cans is 4\n",
      "j is 1\n",
      "j is 2\n",
      "j is 3\n",
      "j is 4\n",
      "cans is 4\n",
      "j is 2\n",
      "j is 3\n",
      "j is 4\n",
      "cans is 3\n",
      "j is 3\n",
      "j is 4\n",
      "j is 5\n",
      "cans is 3\n",
      "j is 4\n",
      "j is 5\n",
      "cans is 2\n",
      "j is 5\n",
      "cans is 0\n"
     ]
    },
    {
     "data": {
      "text/plain": [
       "2"
      ]
     },
     "execution_count": 500,
     "metadata": {},
     "output_type": "execute_result"
    }
   ],
   "source": [
    "minSubArrayLen(7,a)"
   ]
  },
  {
   "cell_type": "code",
   "execution_count": 425,
   "metadata": {},
   "outputs": [
    {
     "data": {
      "text/plain": [
       "[2, 3, 1, 2, 4, 1, 2]"
      ]
     },
     "execution_count": 425,
     "metadata": {},
     "output_type": "execute_result"
    }
   ],
   "source": [
    "a"
   ]
  },
  {
   "cell_type": "code",
   "execution_count": 447,
   "metadata": {},
   "outputs": [
    {
     "data": {
      "text/plain": [
       "<enumerate at 0x10e4e9a50>"
      ]
     },
     "execution_count": 447,
     "metadata": {},
     "output_type": "execute_result"
    }
   ],
   "source": [
    "enumerate(a)"
   ]
  },
  {
   "cell_type": "code",
   "execution_count": 529,
   "metadata": {
    "collapsed": true
   },
   "outputs": [],
   "source": [
    "class unique_element:\n",
    "    def __init__(self,value,occurrences):\n",
    "        self.value = value\n",
    "        self.occurrences = occurrences\n",
    "\n",
    "def perm_unique(elements):\n",
    "    eset=set(elements)\n",
    "    listunique = [unique_element(i,elements.count(i)) for i in eset]\n",
    "    u=len(elements)\n",
    "    return perm_unique_helper(listunique,[0]*u,u-1)\n",
    "\n",
    "def perm_unique_helper(listunique,result_list,d):\n",
    "    if d < 0:\n",
    "        print([result_list])\n",
    "        yield tuple(result_list)\n",
    "    else:\n",
    "        for i in listunique:\n",
    "            if i.occurrences > 0:\n",
    "                print('d is {}'.format(d))\n",
    "                print('first i.occur is {}'.format(i.occurrences))\n",
    "                result_list[d]=i.value\n",
    "                i.occurrences-=1\n",
    "                print('second i.occur is {}'.format(i.occurrences))\n",
    "                for g in  perm_unique_helper(listunique,result_list,d-1):\n",
    "                    yield g\n",
    "                i.occurrences+=1"
   ]
  },
  {
   "cell_type": "code",
   "execution_count": 530,
   "metadata": {},
   "outputs": [
    {
     "name": "stdout",
     "output_type": "stream",
     "text": [
      "d is 2\n",
      "first i.occur is 2\n",
      "second i.occur is 1\n",
      "d is 1\n",
      "first i.occur is 1\n",
      "second i.occur is 0\n",
      "d is 0\n",
      "first i.occur is 1\n",
      "second i.occur is 0\n",
      "[[2, 1, 1]]\n",
      "d is 1\n",
      "first i.occur is 1\n",
      "second i.occur is 0\n",
      "d is 0\n",
      "first i.occur is 1\n",
      "second i.occur is 0\n",
      "[[1, 2, 1]]\n",
      "d is 2\n",
      "first i.occur is 1\n",
      "second i.occur is 0\n",
      "d is 1\n",
      "first i.occur is 2\n",
      "second i.occur is 1\n",
      "d is 0\n",
      "first i.occur is 1\n",
      "second i.occur is 0\n",
      "[[1, 1, 2]]\n",
      "[(2, 1, 1), (1, 2, 1), (1, 1, 2)]\n"
     ]
    }
   ],
   "source": [
    "a = list(perm_unique([1,1,2]))\n",
    "print(a)"
   ]
  },
  {
   "cell_type": "code",
   "execution_count": 515,
   "metadata": {},
   "outputs": [
    {
     "data": {
      "text/plain": [
       "{1, 2}"
      ]
     },
     "execution_count": 515,
     "metadata": {},
     "output_type": "execute_result"
    }
   ],
   "source": [
    "elements = [1,1,2]\n",
    "eset = set(elements)\n",
    "a = [unique_element(i,elements.count(i)) for i in eset]\n",
    "eset"
   ]
  },
  {
   "cell_type": "code",
   "execution_count": 514,
   "metadata": {},
   "outputs": [
    {
     "name": "stdout",
     "output_type": "stream",
     "text": [
      "2\n",
      "1\n",
      "1\n",
      "2\n"
     ]
    }
   ],
   "source": [
    "for i in a:\n",
    "    print(i.occurrences)\n",
    "    print(i.value)"
   ]
  },
  {
   "cell_type": "code",
   "execution_count": 532,
   "metadata": {},
   "outputs": [
    {
     "data": {
      "text/plain": [
       "1"
      ]
     },
     "execution_count": 532,
     "metadata": {},
     "output_type": "execute_result"
    }
   ],
   "source": [
    "'appl'.count('a')"
   ]
  },
  {
   "cell_type": "code",
   "execution_count": 593,
   "metadata": {},
   "outputs": [],
   "source": [
    "# Definition for a binary tree node.\n",
    "class TreeNode(object):\n",
    "    def __init__(self, x):\n",
    "        self.val = x\n",
    "        self.left = None\n",
    "        self.right = None\n",
    "\n",
    "class Solution(object):\n",
    "    def diameterOfBinaryTree(self, root):\n",
    "        \"\"\"\n",
    "        :type root: TreeNode\n",
    "        :rtype: int\n",
    "        \"\"\"\n",
    "        if (root.left is None) and (root.right is None):\n",
    "            return 0\n",
    "        elif (root.left is None) and (root.right is not None):\n",
    "            return 1+self.diameterOfBinaryTree(root.right)\n",
    "        elif (root.left is not None) and (root.right is None):\n",
    "            return 1+self.diameterOfBinaryTree(root.left)\n",
    "        else:\n",
    "            return 2+max(self.diameterOfBinaryTree(root.left), self.diameterOfBinaryTree(root.right))\n",
    "        "
   ]
  },
  {
   "cell_type": "code",
   "execution_count": 604,
   "metadata": {
    "collapsed": true
   },
   "outputs": [],
   "source": [
    "# Definition for a binary tree node.\n",
    "class TreeNode(object):\n",
    "    def __init__(self, x):\n",
    "        self.val = x\n",
    "        self.left = None\n",
    "        self.right = None\n",
    "\n",
    "class Solution(object):\n",
    "    def diameterOfBinaryTree(self, root):\n",
    "        \"\"\"\n",
    "        :type root: TreeNode\n",
    "        :rtype: int\n",
    "        \"\"\"\n",
    "        if (root.left is None) and (root.right is None):\n",
    "            return 0\n",
    "        elif (root.left is None) and (root.right is not None):\n",
    "            return 1+self.diameterOfBinaryTree(root.right)\n",
    "        elif (root.left is not None) and (root.right is None):\n",
    "            return 1+self.diameterOfBinaryTree(root.left)\n",
    "        else:\n",
    "            return 1+self.diameterOfBinaryTree(root.left)+self.diameterOfBinaryTree(root.right)\n",
    "        "
   ]
  },
  {
   "cell_type": "code",
   "execution_count": 605,
   "metadata": {},
   "outputs": [],
   "source": [
    "N1 = TreeNode(1)\n",
    "N2 = TreeNode(2)\n",
    "N3 = TreeNode(3)\n",
    "N4 = TreeNode(4)\n",
    "N5 = TreeNode(5)\n",
    "N1.left = N2\n",
    "N1.right = N3\n",
    "N2.left = N4\n",
    "N2.right = N5"
   ]
  },
  {
   "cell_type": "code",
   "execution_count": 606,
   "metadata": {},
   "outputs": [
    {
     "data": {
      "text/plain": [
       "2"
      ]
     },
     "execution_count": 606,
     "metadata": {},
     "output_type": "execute_result"
    }
   ],
   "source": [
    "a = Solution()\n",
    "a\n",
    "Solution.diameterOfBinaryTree(a,N1)\n",
    "# N1.left"
   ]
  },
  {
   "cell_type": "code",
   "execution_count": 596,
   "metadata": {
    "collapsed": true
   },
   "outputs": [],
   "source": [
    "# Definition for a binary tree node.\n",
    "class TreeNode(object):\n",
    "    def __init__(self, x):\n",
    "        self.val = x\n",
    "        self.left = None\n",
    "        self.right = None\n",
    "\n",
    "def diameterOfBinaryTree(root):\n",
    "    \"\"\"\n",
    "    :type root: TreeNode\n",
    "    :rtype: int\n",
    "    \"\"\"\n",
    "    if (root.left is None) and (root.right is None):\n",
    "        return 0\n",
    "    elif (root.left is None) and (root.right is not None):\n",
    "        return 1+diameterOfBinaryTree(root.right)\n",
    "    elif (root.left is not None) and (root.right is None):\n",
    "        return 1+diameterOfBinaryTree(root.left)\n",
    "    else:\n",
    "        return 1+max(self.diameterOfBinaryTree(self,root.left), self.diameterOfBinaryTree(self,root.right))\n"
   ]
  },
  {
   "cell_type": "code",
   "execution_count": 599,
   "metadata": {},
   "outputs": [],
   "source": [
    "N1 = TreeNode(1)\n",
    "N2 = TreeNode(2)\n",
    "N3 = TreeNode(3)\n",
    "N4 = TreeNode(4)\n",
    "N5 = TreeNode(5)\n",
    "N1.left = N2\n",
    "# N1.left"
   ]
  },
  {
   "cell_type": "code",
   "execution_count": 600,
   "metadata": {},
   "outputs": [
    {
     "data": {
      "text/plain": [
       "1"
      ]
     },
     "execution_count": 600,
     "metadata": {},
     "output_type": "execute_result"
    }
   ],
   "source": [
    "diameterOfBinaryTree(N1)"
   ]
  },
  {
   "cell_type": "code",
   "execution_count": 654,
   "metadata": {
    "collapsed": true
   },
   "outputs": [],
   "source": [
    "# Definition for a binary tree node.\n",
    "class TreeNode(object):\n",
    "    def __init__(self, x):\n",
    "        self.val = x\n",
    "        self.left = None\n",
    "        self.right = None\n",
    "\n",
    "def diameterOfBinaryTree(root):\n",
    "    \"\"\"\n",
    "    :type root: TreeNode\n",
    "    :rtype: int\n",
    "    \"\"\"\n",
    "    ans = 0\n",
    "    if root is None:\n",
    "        return 0\n",
    "    else:\n",
    "        return max(leftLen(root)+rightLen(root), diameterOfBinaryTree(root.left), diameterOfBinaryTree(root.right))\n",
    "    \n",
    "    \n",
    "def leftLen(root):\n",
    "    if root is None or root.left is None:\n",
    "        return 0\n",
    "    else:\n",
    "        return 1+max(leftLen(root.left),rightLen(root.left))\n",
    "    \n",
    "def rightLen(root):\n",
    "    if root is None or root.right is None:\n",
    "        return 0\n",
    "    else:\n",
    "        return 1+max(leftLen(root.right),rightLen(root.right))\n",
    "        "
   ]
  },
  {
   "cell_type": "code",
   "execution_count": 655,
   "metadata": {
    "collapsed": true
   },
   "outputs": [],
   "source": [
    "N1 = TreeNode(1)\n",
    "N2 = TreeNode(2)\n",
    "N3 = TreeNode(3)\n",
    "N4 = TreeNode(4)\n",
    "N5 = TreeNode(5)\n",
    "N1.left = N2\n",
    "N1.right = N3\n",
    "N2.left = N4\n",
    "N2.right = N5"
   ]
  },
  {
   "cell_type": "code",
   "execution_count": 656,
   "metadata": {},
   "outputs": [
    {
     "data": {
      "text/plain": [
       "3"
      ]
     },
     "execution_count": 656,
     "metadata": {},
     "output_type": "execute_result"
    }
   ],
   "source": [
    "diameterOfBinaryTree(N1)"
   ]
  },
  {
   "cell_type": "code",
   "execution_count": 653,
   "metadata": {},
   "outputs": [
    {
     "data": {
      "text/plain": [
       "1"
      ]
     },
     "execution_count": 653,
     "metadata": {},
     "output_type": "execute_result"
    }
   ],
   "source": [
    "rightLen(N1)"
   ]
  },
  {
   "cell_type": "code",
   "execution_count": 681,
   "metadata": {},
   "outputs": [
    {
     "name": "stdout",
     "output_type": "stream",
     "text": [
      "None\n"
     ]
    }
   ],
   "source": [
    "a = [0,1]\n",
    "a.append(2)\n",
    "print(a.append(2))"
   ]
  },
  {
   "cell_type": "code",
   "execution_count": 682,
   "metadata": {},
   "outputs": [
    {
     "name": "stdout",
     "output_type": "stream",
     "text": [
      "[0, 1, 2, 2]\n"
     ]
    }
   ],
   "source": [
    "print(a)"
   ]
  },
  {
   "cell_type": "code",
   "execution_count": 673,
   "metadata": {},
   "outputs": [],
   "source": [
    "[0,1].extend([2])"
   ]
  },
  {
   "cell_type": "code",
   "execution_count": 674,
   "metadata": {},
   "outputs": [
    {
     "name": "stdout",
     "output_type": "stream",
     "text": [
      "[1, 2, 3, 4, 5]\n"
     ]
    }
   ],
   "source": [
    "x = [1, 2, 3]\n",
    "x.extend([4, 5])\n",
    "print (x)"
   ]
  },
  {
   "cell_type": "code",
   "execution_count": 675,
   "metadata": {},
   "outputs": [
    {
     "name": "stdout",
     "output_type": "stream",
     "text": [
      "[1, 2, 3, [4, 5]]\n"
     ]
    }
   ],
   "source": [
    "x = [1, 2, 3]\n",
    "x.append([4, 5])\n",
    "print (x)"
   ]
  },
  {
   "cell_type": "code",
   "execution_count": 678,
   "metadata": {},
   "outputs": [],
   "source": [
    "[1,2,3].extend([2])"
   ]
  },
  {
   "cell_type": "code",
   "execution_count": 695,
   "metadata": {
    "collapsed": true
   },
   "outputs": [],
   "source": [
    "class Solution(object):\n",
    "    def plusOne(self, digits):\n",
    "        \"\"\"\n",
    "        :type digits: List[int]\n",
    "        :rtype: List[int]\n",
    "        \"\"\"\n",
    "        if digits[0]==0:\n",
    "            return [1]\n",
    "        else:\n",
    "            cur = len(digits)-1\n",
    "            if digits[cur]!=9:\n",
    "                digits[cur] += 1\n",
    "                return digits\n",
    "            else:\n",
    "                if cur==0:\n",
    "                    return [1,0]\n",
    "                else:\n",
    "                    ans = self.plusOne(digits[:cur])\n",
    "                    ans.append(0)\n",
    "                    return ans"
   ]
  },
  {
   "cell_type": "code",
   "execution_count": 696,
   "metadata": {},
   "outputs": [
    {
     "data": {
      "text/plain": [
       "[1, 0, 0]"
      ]
     },
     "execution_count": 696,
     "metadata": {},
     "output_type": "execute_result"
    }
   ],
   "source": [
    "a = Solution()\n",
    "a.plusOne([9,9])"
   ]
  },
  {
   "cell_type": "code",
   "execution_count": 690,
   "metadata": {},
   "outputs": [
    {
     "data": {
      "text/plain": [
       "[]"
      ]
     },
     "execution_count": 690,
     "metadata": {},
     "output_type": "execute_result"
    }
   ],
   "source": [
    "a = [0,1,2]\n",
    "a[0:0]"
   ]
  },
  {
   "cell_type": "code",
   "execution_count": 699,
   "metadata": {},
   "outputs": [
    {
     "ename": "TypeError",
     "evalue": "return arrays must be of ArrayType",
     "output_type": "error",
     "traceback": [
      "\u001b[0;31m---------------------------------------------------------------------------\u001b[0m",
      "\u001b[0;31mTypeError\u001b[0m                                 Traceback (most recent call last)",
      "\u001b[0;32m<ipython-input-699-f4f316c0f95a>\u001b[0m in \u001b[0;36m<module>\u001b[0;34m()\u001b[0m\n\u001b[1;32m      1\u001b[0m \u001b[0;32mimport\u001b[0m \u001b[0mnumpy\u001b[0m \u001b[0;32mas\u001b[0m \u001b[0mnp\u001b[0m\u001b[0;34m\u001b[0m\u001b[0m\n\u001b[0;32m----> 2\u001b[0;31m \u001b[0mnp\u001b[0m\u001b[0;34m.\u001b[0m\u001b[0mlog\u001b[0m\u001b[0;34m(\u001b[0m\u001b[0;36m2\u001b[0m\u001b[0;34m,\u001b[0m\u001b[0;36m4\u001b[0m\u001b[0;34m)\u001b[0m\u001b[0;34m\u001b[0m\u001b[0m\n\u001b[0m",
      "\u001b[0;31mTypeError\u001b[0m: return arrays must be of ArrayType"
     ]
    }
   ],
   "source": []
  },
  {
   "cell_type": "code",
   "execution_count": 701,
   "metadata": {},
   "outputs": [
    {
     "data": {
      "text/plain": [
       "2.0"
      ]
     },
     "execution_count": 701,
     "metadata": {},
     "output_type": "execute_result"
    }
   ],
   "source": [
    "import math\n",
    "math.ceil(1.5)"
   ]
  },
  {
   "cell_type": "code",
   "execution_count": 702,
   "metadata": {},
   "outputs": [
    {
     "data": {
      "text/plain": [
       "3.0"
      ]
     },
     "execution_count": 702,
     "metadata": {},
     "output_type": "execute_result"
    }
   ],
   "source": [
    "round(2.5)"
   ]
  },
  {
   "cell_type": "code",
   "execution_count": 704,
   "metadata": {},
   "outputs": [
    {
     "data": {
      "text/plain": [
       "2"
      ]
     },
     "execution_count": 704,
     "metadata": {},
     "output_type": "execute_result"
    }
   ],
   "source": [
    "int(5/2.0)"
   ]
  },
  {
   "cell_type": "code",
   "execution_count": 978,
   "metadata": {},
   "outputs": [],
   "source": [
    "import numpy as np\n",
    "import sys\n",
    "class Solution(object):\n",
    "    def getMoneyAmount(self, n):\n",
    "        \"\"\"\n",
    "        :type n: int\n",
    "        :rtype: int\n",
    "        \"\"\"\n",
    "        table = np.zeros((n,n))\n",
    "        return self.helper(table,1,n)\n",
    "        \n",
    "    def helper(self, table, m, M):\n",
    "        if m>=M:\n",
    "            return 0 \n",
    "        if table[m-1, M-1] != 0:\n",
    "            return table[m-1, M-1]\n",
    "        else:\n",
    "            ans = 0\n",
    "            for i in range(m,M+1):\n",
    "                cur = i + max(self.helper(table, m, i-1), self.helper(table, i+1,M))\n",
    "                if ans == 0:\n",
    "                    ans = cur\n",
    "                else:\n",
    "                    ans = min(ans, cur)\n",
    "            table[m-1][M-1] = ans\n",
    "            return int(ans)\n",
    "                "
   ]
  },
  {
   "cell_type": "code",
   "execution_count": 979,
   "metadata": {},
   "outputs": [
    {
     "data": {
      "text/plain": [
       "952"
      ]
     },
     "execution_count": 979,
     "metadata": {},
     "output_type": "execute_result"
    }
   ],
   "source": [
    "a = Solution()\n",
    "a.getMoneyAmount(200)"
   ]
  },
  {
   "cell_type": "code",
   "execution_count": 778,
   "metadata": {},
   "outputs": [
    {
     "data": {
      "text/plain": [
       "2"
      ]
     },
     "execution_count": 778,
     "metadata": {},
     "output_type": "execute_result"
    }
   ],
   "source": [
    "int(math.log(7,2))"
   ]
  },
  {
   "cell_type": "code",
   "execution_count": 808,
   "metadata": {},
   "outputs": [
    {
     "ename": "AttributeError",
     "evalue": "'module' object has no attribute 'median'",
     "output_type": "error",
     "traceback": [
      "\u001b[0;31m---------------------------------------------------------------------------\u001b[0m",
      "\u001b[0;31mAttributeError\u001b[0m                            Traceback (most recent call last)",
      "\u001b[0;32m<ipython-input-808-8c4d7a0aaac2>\u001b[0m in \u001b[0;36m<module>\u001b[0;34m()\u001b[0m\n\u001b[0;32m----> 1\u001b[0;31m \u001b[0mmath\u001b[0m\u001b[0;34m.\u001b[0m\u001b[0mmedian\u001b[0m\u001b[0;34m(\u001b[0m\u001b[0;34m[\u001b[0m\u001b[0;36m1\u001b[0m\u001b[0;34m,\u001b[0m\u001b[0;36m2\u001b[0m\u001b[0;34m]\u001b[0m\u001b[0;34m)\u001b[0m\u001b[0;34m\u001b[0m\u001b[0m\n\u001b[0m",
      "\u001b[0;31mAttributeError\u001b[0m: 'module' object has no attribute 'median'"
     ]
    }
   ],
   "source": [
    "math.median([1,2])"
   ]
  },
  {
   "cell_type": "code",
   "execution_count": 849,
   "metadata": {},
   "outputs": [
    {
     "data": {
      "text/plain": [
       "[1, 2, 3]"
      ]
     },
     "execution_count": 849,
     "metadata": {},
     "output_type": "execute_result"
    }
   ],
   "source": [
    "range(1,4)"
   ]
  },
  {
   "cell_type": "code",
   "execution_count": 850,
   "metadata": {},
   "outputs": [
    {
     "data": {
      "text/plain": [
       "[]"
      ]
     },
     "execution_count": 850,
     "metadata": {},
     "output_type": "execute_result"
    }
   ],
   "source": [
    "range(1,1)"
   ]
  },
  {
   "cell_type": "code",
   "execution_count": 884,
   "metadata": {},
   "outputs": [
    {
     "data": {
      "text/plain": [
       "66"
      ]
     },
     "execution_count": 884,
     "metadata": {},
     "output_type": "execute_result"
    }
   ],
   "source": [
    "12+17+19+18"
   ]
  },
  {
   "cell_type": "code",
   "execution_count": 920,
   "metadata": {},
   "outputs": [
    {
     "data": {
      "text/plain": [
       "array([[ 0.,  0.,  0.],\n",
       "       [ 0.,  0.,  0.],\n",
       "       [ 0.,  0.,  0.]])"
      ]
     },
     "execution_count": 920,
     "metadata": {},
     "output_type": "execute_result"
    }
   ],
   "source": [
    "import numpy as np\n",
    "a = np.zeros((3,3))\n",
    "a"
   ]
  },
  {
   "cell_type": "code",
   "execution_count": 922,
   "metadata": {},
   "outputs": [
    {
     "data": {
      "text/plain": [
       "0.0"
      ]
     },
     "execution_count": 922,
     "metadata": {},
     "output_type": "execute_result"
    }
   ],
   "source": [
    "a[2,2]"
   ]
  },
  {
   "cell_type": "code",
   "execution_count": 945,
   "metadata": {},
   "outputs": [
    {
     "ename": "NameError",
     "evalue": "name 'maxint' is not defined",
     "output_type": "error",
     "traceback": [
      "\u001b[0;31m---------------------------------------------------------------------------\u001b[0m",
      "\u001b[0;31mNameError\u001b[0m                                 Traceback (most recent call last)",
      "\u001b[0;32m<ipython-input-945-2a36fb4fad0a>\u001b[0m in \u001b[0;36m<module>\u001b[0;34m()\u001b[0m\n\u001b[0;32m----> 1\u001b[0;31m \u001b[0mmaxint\u001b[0m\u001b[0;34m\u001b[0m\u001b[0m\n\u001b[0m",
      "\u001b[0;31mNameError\u001b[0m: name 'maxint' is not defined"
     ]
    }
   ],
   "source": [
    "maxint"
   ]
  },
  {
   "cell_type": "code",
   "execution_count": 980,
   "metadata": {
    "collapsed": true
   },
   "outputs": [],
   "source": [
    "import numpy as np\n",
    "class Solution(object):\n",
    "    def getMoneyAmount(self, n):\n",
    "        \"\"\"\n",
    "        :type n: int\n",
    "        :rtype: int\n",
    "        \"\"\"\n",
    "        table = np.zeros((n,n))\n",
    "        return self.helper(table,1,n)\n",
    "        \n",
    "    def helper(self, table, m, M):\n",
    "        if m>=M:\n",
    "            return 0 \n",
    "        if table[m-1, M-1] != 0:\n",
    "            return table[m-1, M-1]\n",
    "        \n",
    "        # ans = 0\n",
    "        # for i in range(m,M+1):\n",
    "        #     cur = i + max(self.helper(table, m, i-1), self.helper(table, i+1,M))\n",
    "        #         f ans == 0:\n",
    "        #         ans = cur\n",
    "        #     else:\n",
    "        #         ans = min(ans, cur)\n",
    "        # table[m-1][M-1] = ans\n",
    "        re = min([i + max(self.helper(table, m, i-1), self.helper(table, i+1,M)) for i in range(m,M+1)])\n",
    "        table[m-1][M-1] = re\n",
    "        return int(re)\n",
    "\n",
    "\n",
    "# from collections import defaultdict\n",
    "\n",
    "# class Solution(object):\n",
    "#     cache = defaultdict(int)\n",
    "\n",
    "#     def getMoneyAmount(self, r, l=0):\n",
    "#         if self.cache[(r, l)]:\n",
    "#             return self.cache[(r, l)]\n",
    "#         if l < 0 or r <= 0 or l >= r:\n",
    "#             return 0\n",
    "#         re = min([max(self.getMoneyAmount(i-1, l) , self.getMoneyAmount(r, i+1)) + i for i in xrange(l, r+1)])\n",
    "#         self.cache[(r, l)] = re\n",
    "#         return re"
   ]
  },
  {
   "cell_type": "code",
   "execution_count": 981,
   "metadata": {},
   "outputs": [
    {
     "data": {
      "text/plain": [
       "952"
      ]
     },
     "execution_count": 981,
     "metadata": {},
     "output_type": "execute_result"
    }
   ],
   "source": [
    "a = Solution()\n",
    "a.getMoneyAmount(200)"
   ]
  },
  {
   "cell_type": "code",
   "execution_count": 966,
   "metadata": {
    "collapsed": true
   },
   "outputs": [],
   "source": [
    "from collections import defaultdict\n",
    "\n",
    "class Solution(object):\n",
    "    cache = defaultdict(int)\n",
    "\n",
    "    def getMoneyAmount(self, r, l=0):\n",
    "        if self.cache[(r, l)]:\n",
    "            return self.cache[(r, l)]\n",
    "        if l < 0 or r <= 0 or l >= r:\n",
    "            return 0\n",
    "        re = min([max(self.getMoneyAmount(i-1, l) , self.getMoneyAmount(r, i+1)) + i for i in xrange(l, r+1)])\n",
    "        self.cache[(r, l)] = re\n",
    "        return re"
   ]
  },
  {
   "cell_type": "code",
   "execution_count": 967,
   "metadata": {},
   "outputs": [
    {
     "data": {
      "text/plain": [
       "952"
      ]
     },
     "execution_count": 967,
     "metadata": {},
     "output_type": "execute_result"
    }
   ],
   "source": [
    "a = Solution()\n",
    "a.getMoneyAmount(200)"
   ]
  },
  {
   "cell_type": "code",
   "execution_count": 992,
   "metadata": {},
   "outputs": [
    {
     "data": {
      "text/plain": [
       "True"
      ]
     },
     "execution_count": 992,
     "metadata": {},
     "output_type": "execute_result"
    }
   ],
   "source": [
    "a = [1,2]\n",
    "[0,0]==[0,0]"
   ]
  },
  {
   "cell_type": "code",
   "execution_count": 1113,
   "metadata": {
    "collapsed": true
   },
   "outputs": [],
   "source": [
    "class Solution(object):\n",
    "    def kthSmallest(self, m, k):\n",
    "        \"\"\"\n",
    "        :type matrix: List[List[int]]\n",
    "        :type k: int\n",
    "        :rtype: int\n",
    "        \"\"\"\n",
    "        n = len(m)\n",
    "        c0, c1, p0, p1 = 0, 0, 0, 0\n",
    "#         right, down = False, False\n",
    "        for i in range(1,k):\n",
    "            print('prev is {}'.format(m[p0][p1]))\n",
    "            print('curr is {}'.format(m[c0][c1]))\n",
    "            print '**********'\n",
    "            if c0 == 0 and c1 == 0: \n",
    "                if m[0][1]>=m[1][0]:\n",
    "                    c0 = 1\n",
    "                    c1 = 0\n",
    "                    p0 = 0\n",
    "                    p1 = 1\n",
    "#                     down = True\n",
    "                else:\n",
    "                    c0 = 0\n",
    "                    c1 = 1\n",
    "                    p0 = 1\n",
    "                    p1 = 0\n",
    "#                     right = True\n",
    "            elif c0 == n-1:\n",
    "                n0 = c0\n",
    "                n1 = c1+1\n",
    "                c0 = p0\n",
    "                c1 = p1\n",
    "                p0 = n0\n",
    "                p1 = n1\n",
    "#                 right, down = False, False\n",
    "#                 if m[c0][c1+1]>=m[p0][p1]:\n",
    "#                     c0 = p0\n",
    "#                     c1 = p1\n",
    "#                     p0 = c0\n",
    "#                     p1 = c1+1\n",
    "#                 else:\n",
    "#                     c0 = c0\n",
    "#                     c1 = c1+1\n",
    "            elif c1 == n-1:\n",
    "                n0 = c0+1\n",
    "                n1 = c1\n",
    "                c0 = p0\n",
    "                c1 = p1\n",
    "                p0 = n0\n",
    "                p1 = n1\n",
    "#                 right, down = False, False\n",
    "#                 if m[c0+1][c1]>=m[p0][p1]:\n",
    "#                     c0 = p0\n",
    "#                     c1 = p1\n",
    "#                     p0 = c0+1\n",
    "#                     p1 = c1\n",
    "#                 else:\n",
    "#                     c0 = c0+1\n",
    "#                     c1 = c1\n",
    "            else:\n",
    "                if m[c0][c1+1]>=m[c0+1][c1]:\n",
    "                    n0 = c0+1\n",
    "                    n1 = c1\n",
    "                else:\n",
    "                    n0 = c0\n",
    "                    n1 = c1+1\n",
    "                if m[n0][n1]>=m[p0][p1]:\n",
    "                    c0 = p0\n",
    "                    c1 = p1\n",
    "                    p0 = n0\n",
    "                    p1 = n1\n",
    "                else:\n",
    "                    c0 = n0\n",
    "                    c1 = n1\n",
    "#                 if right == False and down == False:\n",
    "#                     if m[c0][c1+1]>=m[c0+1][c1]:\n",
    "#                         c0 = c0+1\n",
    "#                         c1 = c1\n",
    "#                         p0 = c0-1\n",
    "#                         p1 = c1+1\n",
    "#                         down = True\n",
    "#                     else:\n",
    "#                         c0 = c0\n",
    "#                         c1 = c1+1\n",
    "#                         p0 = c0+1\n",
    "#                         p1 = c1-1\n",
    "#                         right = True\n",
    "#                 else:\n",
    "                    \n",
    "#                 elif right == True and down == False:\n",
    "#                     n0, n1 = c0, c1+1\n",
    "#                     if m[n0][n1]>=m[p0][p1]:\n",
    "#                         c0 = p0\n",
    "#                         c1 = p1\n",
    "#                         p0 = n0\n",
    "#                         p1 = n1\n",
    "#                     else:\n",
    "#                         c0 = n0\n",
    "#                         c1 = n1\n",
    "#                 elif right == False and down == True:\n",
    "#                     n0, n1 = c0+1, c1\n",
    "#                     if m[n0][n1]>=m[p0][p1]:\n",
    "#                         c0 = p0\n",
    "#                         c1 = p1\n",
    "#                         p0 = n0\n",
    "#                         p1 = n1\n",
    "#                     else:\n",
    "#                         c0 = n0\n",
    "#                         c1 = n1\n",
    "            print('prev is {}'.format(m[p0][p1]))\n",
    "            print('curr is {}'.format(m[c0][c1]))\n",
    "            print('p0 is {}'.format([p0]))\n",
    "            print('p1 is {}'.format([p1]))\n",
    "            print('c0 is {}'.format([c0]))\n",
    "            print('c1 is {}'.format([c1]))\n",
    "            print '***************************************'\n",
    "        return m[c0][c1]\n",
    "                \n",
    "            "
   ]
  },
  {
   "cell_type": "code",
   "execution_count": 1118,
   "metadata": {},
   "outputs": [
    {
     "name": "stdout",
     "output_type": "stream",
     "text": [
      "prev is 1\n",
      "curr is 1\n",
      "**********\n",
      "prev is 4\n",
      "curr is 2\n",
      "p0 is [0]\n",
      "p1 is [1]\n",
      "c0 is [1]\n",
      "c1 is [0]\n",
      "***************************************\n",
      "prev is 4\n",
      "curr is 2\n",
      "**********\n",
      "prev is 4\n",
      "curr is 3\n",
      "p0 is [0]\n",
      "p1 is [1]\n",
      "c0 is [2]\n",
      "c1 is [0]\n",
      "***************************************\n",
      "prev is 4\n",
      "curr is 3\n",
      "**********\n",
      "prev is 6\n",
      "curr is 4\n",
      "p0 is [2]\n",
      "p1 is [1]\n",
      "c0 is [0]\n",
      "c1 is [1]\n",
      "***************************************\n",
      "prev is 6\n",
      "curr is 4\n",
      "**********\n",
      "prev is 6\n",
      "curr is 5\n",
      "p0 is [2]\n",
      "p1 is [1]\n",
      "c0 is [1]\n",
      "c1 is [1]\n",
      "***************************************\n",
      "prev is 6\n",
      "curr is 5\n",
      "**********\n",
      "prev is 6\n",
      "curr is 6\n",
      "p0 is [2]\n",
      "p1 is [1]\n",
      "c0 is [2]\n",
      "c1 is [1]\n",
      "***************************************\n",
      "prev is 6\n",
      "curr is 6\n",
      "**********\n",
      "prev is 9\n",
      "curr is 6\n",
      "p0 is [2]\n",
      "p1 is [2]\n",
      "c0 is [2]\n",
      "c1 is [1]\n",
      "***************************************\n",
      "prev is 9\n",
      "curr is 6\n",
      "**********\n",
      "prev is 9\n",
      "curr is 9\n",
      "p0 is [2]\n",
      "p1 is [2]\n",
      "c0 is [2]\n",
      "c1 is [2]\n",
      "***************************************\n"
     ]
    },
    {
     "data": {
      "text/plain": [
       "9"
      ]
     },
     "execution_count": 1118,
     "metadata": {},
     "output_type": "execute_result"
    }
   ],
   "source": [
    "a = Solution()\n",
    "matrix = [\n",
    "   [ 1,  5,  9],\n",
    "   [10, 11, 13],\n",
    "   [12, 13, 15]\n",
    "]\n",
    "matrix = [[1,4,7,11,15],\n",
    "          [2,5,8,12,19],\n",
    "          [3,6,9,16,22],\n",
    "          [10,13,14,17,24],\n",
    "          [18,21,23,26,30]]\n",
    "k = 8\n",
    "a.kthSmallest(matrix, k)"
   ]
  },
  {
   "cell_type": "code",
   "execution_count": 1110,
   "metadata": {
    "collapsed": true
   },
   "outputs": [],
   "source": [
    "class Solution(object):\n",
    "    def kthSmallest(self, m, k):\n",
    "        \"\"\"\n",
    "        :type matrix: List[List[int]]\n",
    "        :type k: int\n",
    "        :rtype: int\n",
    "        \"\"\"\n",
    "        n = len(m)\n",
    "        i, j = 0, 0\n",
    "        for s in range(k):\n",
    "            ans = m[i][j]\n",
    "            if m[i+1][j]>=m[i][j+1]:\n",
    "                i \n",
    "        return ans"
   ]
  },
  {
   "cell_type": "code",
   "execution_count": 1112,
   "metadata": {},
   "outputs": [
    {
     "data": {
      "text/plain": [
       "1"
      ]
     },
     "execution_count": 1112,
     "metadata": {},
     "output_type": "execute_result"
    }
   ],
   "source": [
    "a = Solution()\n",
    "matrix = [\n",
    "   [ 1,  5,  9],\n",
    "   [10, 11, 13],\n",
    "   [12, 13, 15]\n",
    "]\n",
    "matrix = [[1,4,7,11,15],\n",
    "          [2,5,8,12,19],\n",
    "          [3,6,9,16,22],\n",
    "          [10,13,14,17,24],\n",
    "          [18,21,23,26,30]]\n",
    "k = 6\n",
    "a.kthSmallest(matrix, k)"
   ]
  },
  {
   "cell_type": "code",
   "execution_count": 1107,
   "metadata": {
    "scrolled": true
   },
   "outputs": [
    {
     "data": {
      "text/plain": [
       "[[1], [3], [4, 5, 6]]"
      ]
     },
     "execution_count": 1107,
     "metadata": {},
     "output_type": "execute_result"
    }
   ],
   "source": [
    "a = [[1],[2,3],[4,5,6]]\n",
    "# a[1].remove[a[1][0]] \n",
    "del a[1][0]\n",
    "a"
   ]
  },
  {
   "cell_type": "code",
   "execution_count": 1101,
   "metadata": {},
   "outputs": [
    {
     "name": "stdout",
     "output_type": "stream",
     "text": [
      "0\n"
     ]
    }
   ],
   "source": [
    "for i in range(1):\n",
    "    print i"
   ]
  },
  {
   "cell_type": "code",
   "execution_count": 1212,
   "metadata": {},
   "outputs": [],
   "source": [
    "# Definition for a binary tree node.\n",
    "class TreeNode(object):\n",
    "    def __init__(self, x):\n",
    "        self.val = x\n",
    "        self.left = None\n",
    "        self.right = None\n",
    "\n",
    "class Solution(object):\n",
    "    def findBottomLeftValue(self, root):\n",
    "        \"\"\"\n",
    "        :type root: TreeNode\n",
    "        :rtype: int\n",
    "        \"\"\"\n",
    "        self.maxdepth = 0\n",
    "        self.leftval = root.val\n",
    "        self.helper(root, 0)\n",
    "        return self.leftval\n",
    "        \n",
    "    def helper(self, root, depth):\n",
    "        if root == None:\n",
    "            return \n",
    "        if depth>self.maxdepth:\n",
    "            self.maxdepth = depth\n",
    "            self.leftval = root.val\n",
    "            \n",
    "        self.helper(root.left, depth+1) \n",
    "        self.helper(root.right, depth+1)"
   ]
  },
  {
   "cell_type": "code",
   "execution_count": 1213,
   "metadata": {},
   "outputs": [
    {
     "data": {
      "text/plain": [
       "4"
      ]
     },
     "execution_count": 1213,
     "metadata": {},
     "output_type": "execute_result"
    }
   ],
   "source": [
    "N1 = TreeNode(1)\n",
    "N2 = TreeNode(2)\n",
    "N3 = TreeNode(3)\n",
    "N4 = TreeNode(4)\n",
    "N5 = TreeNode(5)\n",
    "N1.left = N2\n",
    "N1.right = N3\n",
    "N2.left = N4\n",
    "N2.right = N5\n",
    "a = Solution()\n",
    "a.findBottomLeftValue(N1)"
   ]
  },
  {
   "cell_type": "code",
   "execution_count": 1204,
   "metadata": {},
   "outputs": [
    {
     "data": {
      "text/plain": [
       "1"
      ]
     },
     "execution_count": 1204,
     "metadata": {},
     "output_type": "execute_result"
    }
   ],
   "source": []
  },
  {
   "cell_type": "code",
   "execution_count": 1205,
   "metadata": {
    "collapsed": true
   },
   "outputs": [],
   "source": [
    "class Solution(object):\n",
    "    def findLeftMostNode(self, root):\n",
    "        self.max_level = 0\n",
    "        self.val = None\n",
    "        self.helper(root, 1)\n",
    "        return self.val\n",
    "        \n",
    "    def helper(self, root, level):\n",
    "        if not root: return\n",
    "        if level > self.max_level:\n",
    "            self.max_level = level\n",
    "            self.val = root.val\n",
    "        self.helper(root.left, level + 1)\n",
    "        self.helper(root.right, level + 1)"
   ]
  },
  {
   "cell_type": "code",
   "execution_count": 1207,
   "metadata": {},
   "outputs": [
    {
     "data": {
      "text/plain": [
       "4"
      ]
     },
     "execution_count": 1207,
     "metadata": {},
     "output_type": "execute_result"
    }
   ],
   "source": [
    "N1 = TreeNode(1)\n",
    "N2 = TreeNode(2)\n",
    "N3 = TreeNode(3)\n",
    "N4 = TreeNode(4)\n",
    "N5 = TreeNode(5)\n",
    "N1.left = N2\n",
    "N1.right = N3\n",
    "N2.left = N4\n",
    "N2.right = N5\n",
    "a = Solution()\n",
    "a.findLeftMostNode(N1)"
   ]
  },
  {
   "cell_type": "code",
   "execution_count": null,
   "metadata": {
    "collapsed": true
   },
   "outputs": [],
   "source": []
  }
 ],
 "metadata": {
  "kernelspec": {
   "display_name": "Python 2",
   "language": "python",
   "name": "python2"
  },
  "language_info": {
   "codemirror_mode": {
    "name": "ipython",
    "version": 2
   },
   "file_extension": ".py",
   "mimetype": "text/x-python",
   "name": "python",
   "nbconvert_exporter": "python",
   "pygments_lexer": "ipython2",
   "version": "2.7.12"
  }
 },
 "nbformat": 4,
 "nbformat_minor": 2
}
