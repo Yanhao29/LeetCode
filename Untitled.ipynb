{
 "cells": [
  {
   "cell_type": "code",
   "execution_count": 496,
   "metadata": {},
   "outputs": [],
   "source": [
    "def minSubArrayLen(s, nums):\n",
    "#     total = left = 0\n",
    "#     result = len(nums) + 1\n",
    "#     for right, n in enumerate(nums):\n",
    "#         print 'n is {}'.format(n)\n",
    "#         print 'right is {}'.format(right)\n",
    "#         total += n\n",
    "#         print 'total is {}'.format(total)\n",
    "#         while total >= s:\n",
    "#             result = min(result, right - left + 1)\n",
    "#             total -= nums[left]\n",
    "#             left += 1\n",
    "#     return result if result <= len(nums) else 0\n",
    "    if(len(nums)==0):\n",
    "        return 0 \n",
    "    else:\n",
    "        ans = 0\n",
    "        for i in range(len(nums)):\n",
    "            c = 0\n",
    "            j = i\n",
    "            cans = 0\n",
    "            while(j<len(nums)):\n",
    "                print 'j is {}'.format(j)\n",
    "                c = c + nums[j]\n",
    "                if(c<s):\n",
    "                    if(j==len(nums)-1):\n",
    "                        cans = 0\n",
    "                        break\n",
    "                    else:\n",
    "                        j = j+1\n",
    "                        cans = cans+1\n",
    "                else:\n",
    "                    cans = cans+1\n",
    "                    break\n",
    "            print 'cans is {}'.format(cans)\n",
    "            if(cans>0):\n",
    "                if(ans==0):\n",
    "                    ans = cans\n",
    "                else:\n",
    "                    ans = min(ans,cans)\n",
    "        return ans"
   ]
  },
  {
   "cell_type": "code",
   "execution_count": 499,
   "metadata": {},
   "outputs": [
    {
     "data": {
      "text/plain": [
       "1"
      ]
     },
     "execution_count": 499,
     "metadata": {},
     "output_type": "execute_result"
    }
   ],
   "source": [
    "a = [2,3,1,2,4,3]\n",
    "# a = [1,2,3,4,5]\n",
    "min(a)"
   ]
  },
  {
   "cell_type": "code",
   "execution_count": 500,
   "metadata": {},
   "outputs": [
    {
     "name": "stdout",
     "output_type": "stream",
     "text": [
      "j is 0\n",
      "j is 1\n",
      "j is 2\n",
      "j is 3\n",
      "cans is 4\n",
      "j is 1\n",
      "j is 2\n",
      "j is 3\n",
      "j is 4\n",
      "cans is 4\n",
      "j is 2\n",
      "j is 3\n",
      "j is 4\n",
      "cans is 3\n",
      "j is 3\n",
      "j is 4\n",
      "j is 5\n",
      "cans is 3\n",
      "j is 4\n",
      "j is 5\n",
      "cans is 2\n",
      "j is 5\n",
      "cans is 0\n"
     ]
    },
    {
     "data": {
      "text/plain": [
       "2"
      ]
     },
     "execution_count": 500,
     "metadata": {},
     "output_type": "execute_result"
    }
   ],
   "source": [
    "minSubArrayLen(7,a)"
   ]
  },
  {
   "cell_type": "code",
   "execution_count": 425,
   "metadata": {},
   "outputs": [
    {
     "data": {
      "text/plain": [
       "[2, 3, 1, 2, 4, 1, 2]"
      ]
     },
     "execution_count": 425,
     "metadata": {},
     "output_type": "execute_result"
    }
   ],
   "source": [
    "a"
   ]
  },
  {
   "cell_type": "code",
   "execution_count": 447,
   "metadata": {},
   "outputs": [
    {
     "data": {
      "text/plain": [
       "<enumerate at 0x10e4e9a50>"
      ]
     },
     "execution_count": 447,
     "metadata": {},
     "output_type": "execute_result"
    }
   ],
   "source": [
    "enumerate(a)"
   ]
  },
  {
   "cell_type": "code",
   "execution_count": null,
   "metadata": {
    "collapsed": true
   },
   "outputs": [],
   "source": []
  }
 ],
 "metadata": {
  "kernelspec": {
   "display_name": "Python 2",
   "language": "python",
   "name": "python2"
  },
  "language_info": {
   "codemirror_mode": {
    "name": "ipython",
    "version": 2
   },
   "file_extension": ".py",
   "mimetype": "text/x-python",
   "name": "python",
   "nbconvert_exporter": "python",
   "pygments_lexer": "ipython2",
   "version": "2.7.12"
  }
 },
 "nbformat": 4,
 "nbformat_minor": 2
}
