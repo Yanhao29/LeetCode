{
 "cells": [
  {
   "cell_type": "code",
   "execution_count": 107,
   "metadata": {
    "collapsed": true
   },
   "outputs": [],
   "source": [
    "tickets = [[\"JFK\",\"SFO\"],[\"JFK\",\"ATL\"],[\"SFO\",\"ATL\"],[\"ATL\",\"JFK\"],[\"ATL\",\"SFO\"]]"
   ]
  },
  {
   "cell_type": "code",
   "execution_count": 108,
   "metadata": {},
   "outputs": [
    {
     "data": {
      "text/plain": [
       "[['SFO', 'ATL'],\n",
       " ['JFK', 'SFO'],\n",
       " ['JFK', 'ATL'],\n",
       " ['ATL', 'SFO'],\n",
       " ['ATL', 'JFK']]"
      ]
     },
     "execution_count": 108,
     "metadata": {},
     "output_type": "execute_result"
    }
   ],
   "source": [
    "sorted(tickets)[::-1]"
   ]
  },
  {
   "cell_type": "code",
   "execution_count": 109,
   "metadata": {},
   "outputs": [],
   "source": [
    "import collections\n",
    "targets = collections.defaultdict(list)"
   ]
  },
  {
   "cell_type": "code",
   "execution_count": 110,
   "metadata": {},
   "outputs": [
    {
     "data": {
      "text/plain": [
       "defaultdict(list, {})"
      ]
     },
     "execution_count": 110,
     "metadata": {},
     "output_type": "execute_result"
    }
   ],
   "source": [
    "targets"
   ]
  },
  {
   "cell_type": "code",
   "execution_count": 111,
   "metadata": {},
   "outputs": [],
   "source": [
    "for a, b in sorted(tickets)[::-1]:\n",
    "    targets[a].append(b)"
   ]
  },
  {
   "cell_type": "code",
   "execution_count": null,
   "metadata": {
    "collapsed": true
   },
   "outputs": [],
   "source": [
    "def findItinerary(self, tickets):\n",
    "    targets = collections.defaultdict(list)\n",
    "    for a, b in sorted(tickets)[::-1]:\n",
    "        targets[a] += b,\n",
    "    route, stack = [], ['JFK']\n",
    "    while stack:\n",
    "        while targets[stack[-1]]:\n",
    "            stack += targets[stack[-1]].pop(),\n",
    "        route += stack.pop(),\n",
    "    return route[::-1]"
   ]
  },
  {
   "cell_type": "code",
   "execution_count": 112,
   "metadata": {},
   "outputs": [
    {
     "data": {
      "text/plain": [
       "defaultdict(list,\n",
       "            {'ATL': ['SFO', 'JFK'], 'JFK': ['SFO', 'ATL'], 'SFO': ['ATL']})"
      ]
     },
     "execution_count": 112,
     "metadata": {},
     "output_type": "execute_result"
    }
   ],
   "source": [
    "targets"
   ]
  },
  {
   "cell_type": "code",
   "execution_count": 113,
   "metadata": {},
   "outputs": [],
   "source": [
    "route = []\n",
    "def visit(airport):\n",
    "    while targets[airport]:\n",
    "        print 'start'\n",
    "        print airport\n",
    "        print '**'\n",
    "        print targets\n",
    "        visit(targets[airport].pop())\n",
    "        print targets\n",
    "    print '!!!!!!'\n",
    "    print airport\n",
    "    print '&&&&&&&&&&&&&&&&&&'\n",
    "    route.append(airport)"
   ]
  },
  {
   "cell_type": "code",
   "execution_count": 114,
   "metadata": {},
   "outputs": [
    {
     "name": "stdout",
     "output_type": "stream",
     "text": [
      "start\n",
      "JFK\n",
      "**\n",
      "defaultdict(<type 'list'>, {'JFK': ['SFO', 'ATL'], 'SFO': ['ATL'], 'ATL': ['SFO', 'JFK']})\n",
      "start\n",
      "ATL\n",
      "**\n",
      "defaultdict(<type 'list'>, {'JFK': ['SFO'], 'SFO': ['ATL'], 'ATL': ['SFO', 'JFK']})\n",
      "start\n",
      "JFK\n",
      "**\n",
      "defaultdict(<type 'list'>, {'JFK': ['SFO'], 'SFO': ['ATL'], 'ATL': ['SFO']})\n",
      "start\n",
      "SFO\n",
      "**\n",
      "defaultdict(<type 'list'>, {'JFK': [], 'SFO': ['ATL'], 'ATL': ['SFO']})\n",
      "start\n",
      "ATL\n",
      "**\n",
      "defaultdict(<type 'list'>, {'JFK': [], 'SFO': [], 'ATL': ['SFO']})\n",
      "!!!!!!\n",
      "SFO\n",
      "&&&&&&&&&&&&&&&&&&\n",
      "defaultdict(<type 'list'>, {'JFK': [], 'SFO': [], 'ATL': []})\n",
      "!!!!!!\n",
      "ATL\n",
      "&&&&&&&&&&&&&&&&&&\n",
      "defaultdict(<type 'list'>, {'JFK': [], 'SFO': [], 'ATL': []})\n",
      "!!!!!!\n",
      "SFO\n",
      "&&&&&&&&&&&&&&&&&&\n",
      "defaultdict(<type 'list'>, {'JFK': [], 'SFO': [], 'ATL': []})\n",
      "!!!!!!\n",
      "JFK\n",
      "&&&&&&&&&&&&&&&&&&\n",
      "defaultdict(<type 'list'>, {'JFK': [], 'SFO': [], 'ATL': []})\n",
      "!!!!!!\n",
      "ATL\n",
      "&&&&&&&&&&&&&&&&&&\n",
      "defaultdict(<type 'list'>, {'JFK': [], 'SFO': [], 'ATL': []})\n",
      "!!!!!!\n",
      "JFK\n",
      "&&&&&&&&&&&&&&&&&&\n"
     ]
    }
   ],
   "source": [
    "visit('JFK')"
   ]
  },
  {
   "cell_type": "code",
   "execution_count": 72,
   "metadata": {},
   "outputs": [
    {
     "data": {
      "text/plain": [
       "['SFO', 'ATL', 'SFO', 'JFK', 'ATL', 'JFK']"
      ]
     },
     "execution_count": 72,
     "metadata": {},
     "output_type": "execute_result"
    }
   ],
   "source": [
    "route"
   ]
  },
  {
   "cell_type": "code",
   "execution_count": 73,
   "metadata": {},
   "outputs": [
    {
     "data": {
      "text/plain": [
       "['JFK', 'ATL', 'JFK', 'SFO', 'ATL', 'SFO']"
      ]
     },
     "execution_count": 73,
     "metadata": {},
     "output_type": "execute_result"
    }
   ],
   "source": [
    "route[::-1]"
   ]
  },
  {
   "cell_type": "code",
   "execution_count": 59,
   "metadata": {},
   "outputs": [
    {
     "data": {
      "text/plain": [
       "{'a': 1}"
      ]
     },
     "execution_count": 59,
     "metadata": {},
     "output_type": "execute_result"
    }
   ],
   "source": []
  },
  {
   "cell_type": "code",
   "execution_count": 118,
   "metadata": {},
   "outputs": [
    {
     "data": {
      "text/plain": [
       "'1923'"
      ]
     },
     "execution_count": 118,
     "metadata": {},
     "output_type": "execute_result"
    }
   ],
   "source": [
    "a ='123'\n",
    "a[0:1]+'9'+a[1:]"
   ]
  },
  {
   "cell_type": "code",
   "execution_count": null,
   "metadata": {
    "collapsed": true
   },
   "outputs": [],
   "source": []
  }
 ],
 "metadata": {
  "kernelspec": {
   "display_name": "Python 2",
   "language": "python",
   "name": "python2"
  },
  "language_info": {
   "codemirror_mode": {
    "name": "ipython",
    "version": 2
   },
   "file_extension": ".py",
   "mimetype": "text/x-python",
   "name": "python",
   "nbconvert_exporter": "python",
   "pygments_lexer": "ipython2",
   "version": "2.7.12"
  }
 },
 "nbformat": 4,
 "nbformat_minor": 2
}
